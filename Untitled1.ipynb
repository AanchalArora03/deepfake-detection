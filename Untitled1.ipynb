{
 "cells": [
  {
   "cell_type": "code",
   "execution_count": 1,
   "id": "bb5c2ef5-1af0-4617-a8cb-1e5d1e388a0e",
   "metadata": {},
   "outputs": [],
   "source": [
    "import numpy as np\n",
    "import pandas as pd\n",
    "import matplotlib.pyplot as plt\n",
    "import os \n",
    "import cv2 as cv\n",
    "import glob"
   ]
  },
  {
   "cell_type": "code",
   "execution_count": null,
   "id": "e436d74a-81fd-40c4-bba9-f7c331ca0a5f",
   "metadata": {},
   "outputs": [],
   "source": [
    "videos = glob.glob('New Training dataset/*.mp4')\n",
    "frame_cnt = []\n",
    "for video in videos:\n",
    "  capture = cv.VideoCapture(video)\n",
    "  frame_cnt.append(int(capture.get(cv.CAP_PROP_FRAME_COUNT)))\n",
    "print(\"Frames: \",frame_cnt)\n",
    "print(\"Avg Frame per video: \", np.mean(frame_cnt))  \n",
    "frame_cnt = []\n",
    "for video in videos:\n",
    "  capture = cv.VideoCapture(video)\n",
    "  frame_cnt.append(int(capture.get(cv.CAP_PROP_FRAME_COUNT)))\n",
    "print(\"Frames: \",frame_cnt)\n",
    "print(\"Avg Frame per video: \",np.mean(frame_cnt))"
   ]
  },
  {
   "cell_type": "code",
   "execution_count": null,
   "id": "02400da2-9661-4b94-be34-2aa1d774e5b1",
   "metadata": {},
   "outputs": [],
   "source": []
  },
  {
   "cell_type": "code",
   "execution_count": null,
   "id": "ee934177-3301-4d67-be6e-ba4fa5187136",
   "metadata": {},
   "outputs": [],
   "source": []
  }
 ],
 "metadata": {
  "kernelspec": {
   "display_name": "Python 3.12 (TensorFlow)",
   "language": "python",
   "name": "py312"
  },
  "language_info": {
   "codemirror_mode": {
    "name": "ipython",
    "version": 3
   },
   "file_extension": ".py",
   "mimetype": "text/x-python",
   "name": "python",
   "nbconvert_exporter": "python",
   "pygments_lexer": "ipython3",
   "version": "3.12.9"
  }
 },
 "nbformat": 4,
 "nbformat_minor": 5
}
